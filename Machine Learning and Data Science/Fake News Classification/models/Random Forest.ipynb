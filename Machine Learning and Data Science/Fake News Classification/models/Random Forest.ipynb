{
 "cells": [
  {
   "cell_type": "markdown",
   "metadata": {
    "papermill": {
     "duration": 0.018179,
     "end_time": "2020-09-18T07:06:27.904343",
     "exception": false,
     "start_time": "2020-09-18T07:06:27.886164",
     "status": "completed"
    },
    "tags": []
   },
   "source": [
    "# Basic Imports"
   ]
  },
  {
   "cell_type": "markdown",
   "metadata": {
    "papermill": {
     "duration": 0.015366,
     "end_time": "2020-09-18T07:06:27.936109",
     "exception": false,
     "start_time": "2020-09-18T07:06:27.920743",
     "status": "completed"
    },
    "tags": []
   },
   "source": [
    "Here, we import the basic packages like **pandas** and **numpy** for I/O and Linear Algebra. Link to the documentation of the packages can be found here:\n",
    "* [numpy](https://numpy.org/doc/stable/)\n",
    "* [pandas](https://pandas.pydata.org/docs/reference/index.html#api)\n",
    "* [os](https://docs.python.org/3/library/os.html)"
   ]
  },
  {
   "cell_type": "code",
   "execution_count": 1,
   "metadata": {
    "_cell_guid": "b1076dfc-b9ad-4769-8c92-a6c4dae69d19",
    "_uuid": "8f2839f25d086af736a60e9eeb907d3b93b6e0e5",
    "execution": {
     "iopub.execute_input": "2020-09-18T07:06:27.972542Z",
     "iopub.status.busy": "2020-09-18T07:06:27.971856Z",
     "iopub.status.idle": "2020-09-18T07:06:27.979263Z",
     "shell.execute_reply": "2020-09-18T07:06:27.978829Z"
    },
    "papermill": {
     "duration": 0.027698,
     "end_time": "2020-09-18T07:06:27.979352",
     "exception": false,
     "start_time": "2020-09-18T07:06:27.951654",
     "status": "completed"
    },
    "tags": []
   },
   "outputs": [
    {
     "name": "stdout",
     "output_type": "stream",
     "text": [
      "/kaggle/input/fake-and-real-news-dataset/True.csv\n",
      "/kaggle/input/fake-and-real-news-dataset/Fake.csv\n"
     ]
    }
   ],
   "source": [
    "import numpy as np \n",
    "import pandas as pd \n",
    "import os\n",
    "for dirname, _, filenames in os.walk('/kaggle/input'):\n",
    "    for filename in filenames:\n",
    "        print(os.path.join(dirname, filename))\n"
   ]
  },
  {
   "cell_type": "markdown",
   "metadata": {
    "papermill": {
     "duration": 0.01573,
     "end_time": "2020-09-18T07:06:28.012947",
     "exception": false,
     "start_time": "2020-09-18T07:06:27.997217",
     "status": "completed"
    },
    "tags": []
   },
   "source": [
    "**Initialising the Fake News Dataset into a DataFrame**"
   ]
  },
  {
   "cell_type": "markdown",
   "metadata": {
    "papermill": {
     "duration": 0.015707,
     "end_time": "2020-09-18T07:06:28.044622",
     "exception": false,
     "start_time": "2020-09-18T07:06:28.028915",
     "status": "completed"
    },
    "tags": []
   },
   "source": [
    "I tried Training using the full corpus but even Kaggle Kernels ran out of memory, so I've shortened both the corpus to only have 5000 instances of each class"
   ]
  },
  {
   "cell_type": "code",
   "execution_count": 2,
   "metadata": {
    "_cell_guid": "79c7e3d0-c299-4dcb-8224-4455121ee9b0",
    "_uuid": "d629ff2d2480ee46fbb7e2d37f6b5fab8052498a",
    "execution": {
     "iopub.execute_input": "2020-09-18T07:06:28.083180Z",
     "iopub.status.busy": "2020-09-18T07:06:28.082638Z",
     "iopub.status.idle": "2020-09-18T07:06:28.547319Z",
     "shell.execute_reply": "2020-09-18T07:06:28.546329Z"
    },
    "papermill": {
     "duration": 0.486646,
     "end_time": "2020-09-18T07:06:28.547429",
     "exception": false,
     "start_time": "2020-09-18T07:06:28.060783",
     "status": "completed"
    },
    "tags": []
   },
   "outputs": [],
   "source": [
    "fakedataset = pd.read_csv(\"/kaggle/input/fake-and-real-news-dataset/Fake.csv\")\n",
    "fake = fakedataset[:5000]"
   ]
  },
  {
   "cell_type": "markdown",
   "metadata": {
    "papermill": {
     "duration": 0.016087,
     "end_time": "2020-09-18T07:06:28.579908",
     "exception": false,
     "start_time": "2020-09-18T07:06:28.563821",
     "status": "completed"
    },
    "tags": []
   },
   "source": [
    "**Initialising the Real News Dataset into a DataFrame**"
   ]
  },
  {
   "cell_type": "code",
   "execution_count": 3,
   "metadata": {
    "execution": {
     "iopub.execute_input": "2020-09-18T07:06:28.617409Z",
     "iopub.status.busy": "2020-09-18T07:06:28.616880Z",
     "iopub.status.idle": "2020-09-18T07:06:29.082134Z",
     "shell.execute_reply": "2020-09-18T07:06:29.081408Z"
    },
    "papermill": {
     "duration": 0.485962,
     "end_time": "2020-09-18T07:06:29.082245",
     "exception": false,
     "start_time": "2020-09-18T07:06:28.596283",
     "status": "completed"
    },
    "tags": []
   },
   "outputs": [],
   "source": [
    "realdataset = pd.read_csv(\"/kaggle/input/fake-and-real-news-dataset/True.csv\")\n",
    "real = realdataset[:5000]"
   ]
  },
  {
   "cell_type": "markdown",
   "metadata": {
    "papermill": {
     "duration": 0.016174,
     "end_time": "2020-09-18T07:06:29.115041",
     "exception": false,
     "start_time": "2020-09-18T07:06:29.098867",
     "status": "completed"
    },
    "tags": []
   },
   "source": [
    "# Pre-Processing"
   ]
  },
  {
   "cell_type": "markdown",
   "metadata": {
    "papermill": {
     "duration": 0.01605,
     "end_time": "2020-09-18T07:06:29.147753",
     "exception": false,
     "start_time": "2020-09-18T07:06:29.131703",
     "status": "completed"
    },
    "tags": []
   },
   "source": [
    "**Adding Classes to the Datasets**"
   ]
  },
  {
   "cell_type": "markdown",
   "metadata": {
    "papermill": {
     "duration": 0.016086,
     "end_time": "2020-09-18T07:06:29.180070",
     "exception": false,
     "start_time": "2020-09-18T07:06:29.163984",
     "status": "completed"
    },
    "tags": []
   },
   "source": [
    "The dataset doesn't have any classes associated with it, so to enable Supervised Learning I've given a class of 1 to real news and 0 to fake news"
   ]
  },
  {
   "cell_type": "code",
   "execution_count": 4,
   "metadata": {
    "execution": {
     "iopub.execute_input": "2020-09-18T07:06:29.222386Z",
     "iopub.status.busy": "2020-09-18T07:06:29.221793Z",
     "iopub.status.idle": "2020-09-18T07:06:29.227810Z",
     "shell.execute_reply": "2020-09-18T07:06:29.227204Z"
    },
    "papermill": {
     "duration": 0.031723,
     "end_time": "2020-09-18T07:06:29.227931",
     "exception": false,
     "start_time": "2020-09-18T07:06:29.196208",
     "status": "completed"
    },
    "tags": []
   },
   "outputs": [
    {
     "name": "stderr",
     "output_type": "stream",
     "text": [
      "/opt/conda/lib/python3.7/site-packages/ipykernel_launcher.py:1: SettingWithCopyWarning: \n",
      "A value is trying to be set on a copy of a slice from a DataFrame.\n",
      "Try using .loc[row_indexer,col_indexer] = value instead\n",
      "\n",
      "See the caveats in the documentation: https://pandas.pydata.org/pandas-docs/stable/user_guide/indexing.html#returning-a-view-versus-a-copy\n",
      "  \"\"\"Entry point for launching an IPython kernel.\n",
      "/opt/conda/lib/python3.7/site-packages/ipykernel_launcher.py:2: SettingWithCopyWarning: \n",
      "A value is trying to be set on a copy of a slice from a DataFrame.\n",
      "Try using .loc[row_indexer,col_indexer] = value instead\n",
      "\n",
      "See the caveats in the documentation: https://pandas.pydata.org/pandas-docs/stable/user_guide/indexing.html#returning-a-view-versus-a-copy\n",
      "  \n"
     ]
    }
   ],
   "source": [
    "real[\"class\"] = 1\n",
    "fake[\"class\"] = 0"
   ]
  },
  {
   "cell_type": "markdown",
   "metadata": {
    "papermill": {
     "duration": 0.016414,
     "end_time": "2020-09-18T07:06:29.261571",
     "exception": false,
     "start_time": "2020-09-18T07:06:29.245157",
     "status": "completed"
    },
    "tags": []
   },
   "source": [
    "**Concatenating Text and Title into a Single Column (to improve performance)**"
   ]
  },
  {
   "cell_type": "markdown",
   "metadata": {
    "papermill": {
     "duration": 0.016381,
     "end_time": "2020-09-18T07:06:29.294536",
     "exception": false,
     "start_time": "2020-09-18T07:06:29.278155",
     "status": "completed"
    },
    "tags": []
   },
   "source": [
    "Just Predicting with the Title/Headlines wouldn't give good results so, I've Concatenated both (Title and Text) into a single column of the individual dataframes. Also, I haven't tried to exploit the relationship between subjects so I've dropped those columns."
   ]
  },
  {
   "cell_type": "code",
   "execution_count": 5,
   "metadata": {
    "execution": {
     "iopub.execute_input": "2020-09-18T07:06:29.333976Z",
     "iopub.status.busy": "2020-09-18T07:06:29.333276Z",
     "iopub.status.idle": "2020-09-18T07:06:29.406170Z",
     "shell.execute_reply": "2020-09-18T07:06:29.406645Z"
    },
    "papermill": {
     "duration": 0.095206,
     "end_time": "2020-09-18T07:06:29.406775",
     "exception": false,
     "start_time": "2020-09-18T07:06:29.311569",
     "status": "completed"
    },
    "tags": []
   },
   "outputs": [
    {
     "name": "stderr",
     "output_type": "stream",
     "text": [
      "/opt/conda/lib/python3.7/site-packages/ipykernel_launcher.py:1: SettingWithCopyWarning: \n",
      "A value is trying to be set on a copy of a slice from a DataFrame.\n",
      "Try using .loc[row_indexer,col_indexer] = value instead\n",
      "\n",
      "See the caveats in the documentation: https://pandas.pydata.org/pandas-docs/stable/user_guide/indexing.html#returning-a-view-versus-a-copy\n",
      "  \"\"\"Entry point for launching an IPython kernel.\n",
      "/opt/conda/lib/python3.7/site-packages/ipykernel_launcher.py:2: SettingWithCopyWarning: \n",
      "A value is trying to be set on a copy of a slice from a DataFrame.\n",
      "Try using .loc[row_indexer,col_indexer] = value instead\n",
      "\n",
      "See the caveats in the documentation: https://pandas.pydata.org/pandas-docs/stable/user_guide/indexing.html#returning-a-view-versus-a-copy\n",
      "  \n"
     ]
    },
    {
     "data": {
      "text/html": [
       "<div>\n",
       "<style scoped>\n",
       "    .dataframe tbody tr th:only-of-type {\n",
       "        vertical-align: middle;\n",
       "    }\n",
       "\n",
       "    .dataframe tbody tr th {\n",
       "        vertical-align: top;\n",
       "    }\n",
       "\n",
       "    .dataframe thead th {\n",
       "        text-align: right;\n",
       "    }\n",
       "</style>\n",
       "<table border=\"1\" class=\"dataframe\">\n",
       "  <thead>\n",
       "    <tr style=\"text-align: right;\">\n",
       "      <th></th>\n",
       "      <th>text</th>\n",
       "      <th>class</th>\n",
       "    </tr>\n",
       "  </thead>\n",
       "  <tbody>\n",
       "    <tr>\n",
       "      <th>0</th>\n",
       "      <td>Donald Trump Sends Out Embarrassing New Year’...</td>\n",
       "      <td>0</td>\n",
       "    </tr>\n",
       "    <tr>\n",
       "      <th>1</th>\n",
       "      <td>Drunk Bragging Trump Staffer Started Russian ...</td>\n",
       "      <td>0</td>\n",
       "    </tr>\n",
       "    <tr>\n",
       "      <th>2</th>\n",
       "      <td>Sheriff David Clarke Becomes An Internet Joke...</td>\n",
       "      <td>0</td>\n",
       "    </tr>\n",
       "    <tr>\n",
       "      <th>3</th>\n",
       "      <td>Trump Is So Obsessed He Even Has Obama’s Name...</td>\n",
       "      <td>0</td>\n",
       "    </tr>\n",
       "    <tr>\n",
       "      <th>4</th>\n",
       "      <td>Pope Francis Just Called Out Donald Trump Dur...</td>\n",
       "      <td>0</td>\n",
       "    </tr>\n",
       "    <tr>\n",
       "      <th>...</th>\n",
       "      <td>...</td>\n",
       "      <td>...</td>\n",
       "    </tr>\n",
       "    <tr>\n",
       "      <th>4995</th>\n",
       "      <td>FBI Warns Republicans: Do Not Leak Clinton Em...</td>\n",
       "      <td>0</td>\n",
       "    </tr>\n",
       "    <tr>\n",
       "      <th>4996</th>\n",
       "      <td>Justice Department Announces It Will No Longe...</td>\n",
       "      <td>0</td>\n",
       "    </tr>\n",
       "    <tr>\n",
       "      <th>4997</th>\n",
       "      <td>WATCH: S.E. Cupp Destroys Trump Adviser’s ‘Fa...</td>\n",
       "      <td>0</td>\n",
       "    </tr>\n",
       "    <tr>\n",
       "      <th>4998</th>\n",
       "      <td>WATCH: Fox Hosts Claim Hillary Has Brain Dama...</td>\n",
       "      <td>0</td>\n",
       "    </tr>\n",
       "    <tr>\n",
       "      <th>4999</th>\n",
       "      <td>CNN Panelist LAUGHS In Corey Lewandowski’s Fa...</td>\n",
       "      <td>0</td>\n",
       "    </tr>\n",
       "  </tbody>\n",
       "</table>\n",
       "<p>5000 rows × 2 columns</p>\n",
       "</div>"
      ],
      "text/plain": [
       "                                                   text  class\n",
       "0      Donald Trump Sends Out Embarrassing New Year’...      0\n",
       "1      Drunk Bragging Trump Staffer Started Russian ...      0\n",
       "2      Sheriff David Clarke Becomes An Internet Joke...      0\n",
       "3      Trump Is So Obsessed He Even Has Obama’s Name...      0\n",
       "4      Pope Francis Just Called Out Donald Trump Dur...      0\n",
       "...                                                 ...    ...\n",
       "4995   FBI Warns Republicans: Do Not Leak Clinton Em...      0\n",
       "4996   Justice Department Announces It Will No Longe...      0\n",
       "4997   WATCH: S.E. Cupp Destroys Trump Adviser’s ‘Fa...      0\n",
       "4998   WATCH: Fox Hosts Claim Hillary Has Brain Dama...      0\n",
       "4999   CNN Panelist LAUGHS In Corey Lewandowski’s Fa...      0\n",
       "\n",
       "[5000 rows x 2 columns]"
      ]
     },
     "execution_count": 5,
     "metadata": {},
     "output_type": "execute_result"
    }
   ],
   "source": [
    "real[\"text\"] = real[\"title\"] + \" \" + real[\"text\"]\n",
    "fake[\"text\"] = fake[\"title\"] + \" \" + fake[\"text\"]\n",
    "\n",
    "real.drop([\"subject\", \"date\", \"title\"], axis = 1)\n",
    "fake.drop([\"subject\", \"date\", \"title\"], axis = 1)"
   ]
  },
  {
   "cell_type": "markdown",
   "metadata": {
    "papermill": {
     "duration": 0.017952,
     "end_time": "2020-09-18T07:06:29.442803",
     "exception": false,
     "start_time": "2020-09-18T07:06:29.424851",
     "status": "completed"
    },
    "tags": []
   },
   "source": [
    "**Creating a Single DataFrame**"
   ]
  },
  {
   "cell_type": "markdown",
   "metadata": {
    "papermill": {
     "duration": 0.017397,
     "end_time": "2020-09-18T07:06:29.477678",
     "exception": false,
     "start_time": "2020-09-18T07:06:29.460281",
     "status": "completed"
    },
    "tags": []
   },
   "source": [
    "Joined both dataframes to just have a single dataframe"
   ]
  },
  {
   "cell_type": "code",
   "execution_count": 6,
   "metadata": {
    "execution": {
     "iopub.execute_input": "2020-09-18T07:06:29.518794Z",
     "iopub.status.busy": "2020-09-18T07:06:29.518128Z",
     "iopub.status.idle": "2020-09-18T07:06:29.521547Z",
     "shell.execute_reply": "2020-09-18T07:06:29.522018Z"
    },
    "papermill": {
     "duration": 0.026836,
     "end_time": "2020-09-18T07:06:29.522139",
     "exception": false,
     "start_time": "2020-09-18T07:06:29.495303",
     "status": "completed"
    },
    "tags": []
   },
   "outputs": [],
   "source": [
    "dataset = real.append(fake, ignore_index = True)"
   ]
  },
  {
   "cell_type": "code",
   "execution_count": 7,
   "metadata": {
    "execution": {
     "iopub.execute_input": "2020-09-18T07:06:29.560545Z",
     "iopub.status.busy": "2020-09-18T07:06:29.560015Z",
     "iopub.status.idle": "2020-09-18T07:06:29.563952Z",
     "shell.execute_reply": "2020-09-18T07:06:29.563463Z"
    },
    "papermill": {
     "duration": 0.024423,
     "end_time": "2020-09-18T07:06:29.564044",
     "exception": false,
     "start_time": "2020-09-18T07:06:29.539621",
     "status": "completed"
    },
    "tags": []
   },
   "outputs": [],
   "source": [
    "del real, fake"
   ]
  },
  {
   "cell_type": "markdown",
   "metadata": {
    "papermill": {
     "duration": 0.017459,
     "end_time": "2020-09-18T07:06:29.599195",
     "exception": false,
     "start_time": "2020-09-18T07:06:29.581736",
     "status": "completed"
    },
    "tags": []
   },
   "source": [
    "**!! Download stopwords and punkt from nltk**"
   ]
  },
  {
   "cell_type": "code",
   "execution_count": 8,
   "metadata": {
    "execution": {
     "iopub.execute_input": "2020-09-18T07:06:29.638990Z",
     "iopub.status.busy": "2020-09-18T07:06:29.638473Z",
     "iopub.status.idle": "2020-09-18T07:06:31.812744Z",
     "shell.execute_reply": "2020-09-18T07:06:31.813183Z"
    },
    "papermill": {
     "duration": 2.196555,
     "end_time": "2020-09-18T07:06:31.813310",
     "exception": false,
     "start_time": "2020-09-18T07:06:29.616755",
     "status": "completed"
    },
    "tags": []
   },
   "outputs": [
    {
     "name": "stdout",
     "output_type": "stream",
     "text": [
      "[nltk_data] Downloading package stopwords to /usr/share/nltk_data...\n",
      "[nltk_data]   Package stopwords is already up-to-date!\n",
      "[nltk_data] Downloading package punkt to /usr/share/nltk_data...\n",
      "[nltk_data]   Package punkt is already up-to-date!\n"
     ]
    },
    {
     "data": {
      "text/plain": [
       "True"
      ]
     },
     "execution_count": 8,
     "metadata": {},
     "output_type": "execute_result"
    }
   ],
   "source": [
    "import nltk\n",
    "\n",
    "nltk.download(\"stopwords\")\n",
    "nltk.download(\"punkt\")"
   ]
  },
  {
   "cell_type": "markdown",
   "metadata": {
    "papermill": {
     "duration": 0.018222,
     "end_time": "2020-09-18T07:06:31.850518",
     "exception": false,
     "start_time": "2020-09-18T07:06:31.832296",
     "status": "completed"
    },
    "tags": []
   },
   "source": [
    "**Performing basic pre-processing on the Corpus**"
   ]
  },
  {
   "cell_type": "markdown",
   "metadata": {
    "papermill": {
     "duration": 0.018531,
     "end_time": "2020-09-18T07:06:31.887659",
     "exception": false,
     "start_time": "2020-09-18T07:06:31.869128",
     "status": "completed"
    },
    "tags": []
   },
   "source": [
    "Here, I've used the [Porter Stemmer](https://www.nltk.org/howto/stem.html) from the nltk module to stem the words. Also, I've converted everything into lowercase and removed stopwords."
   ]
  },
  {
   "cell_type": "code",
   "execution_count": 9,
   "metadata": {
    "execution": {
     "iopub.execute_input": "2020-09-18T07:06:31.938533Z",
     "iopub.status.busy": "2020-09-18T07:06:31.937836Z",
     "iopub.status.idle": "2020-09-18T07:06:34.050550Z",
     "shell.execute_reply": "2020-09-18T07:06:34.051455Z"
    },
    "papermill": {
     "duration": 2.142226,
     "end_time": "2020-09-18T07:06:34.051631",
     "exception": false,
     "start_time": "2020-09-18T07:06:31.909405",
     "status": "completed"
    },
    "tags": []
   },
   "outputs": [],
   "source": [
    "import re\n",
    "import string\n",
    "stopwords = nltk.corpus.stopwords.words('english')\n",
    "stemmer = nltk.PorterStemmer()\n",
    "\n",
    "def count_punct(text):\n",
    "    count = sum([1 for char in text if char in string.punctuation])\n",
    "    return round(count/(len(text) - text.count(\" \")), 3)*100\n",
    "\n",
    "dataset['body_len'] = dataset['text'].apply(lambda x: len(x) - x.count(\" \"))\n",
    "dataset['punct%'] = dataset['text'].apply(lambda x: count_punct(x))\n",
    "\n",
    "def clean_text(text):\n",
    "    text = \"\".join([word.lower() for word in text if word not in string.punctuation])\n",
    "    tokens = re.split('\\W+', text)\n",
    "    text = [stemmer.stem(word) for word in tokens if word not in stopwords]\n",
    "    return text\n",
    "    "
   ]
  },
  {
   "cell_type": "markdown",
   "metadata": {
    "papermill": {
     "duration": 0.030457,
     "end_time": "2020-09-18T07:06:34.113080",
     "exception": false,
     "start_time": "2020-09-18T07:06:34.082623",
     "status": "completed"
    },
    "tags": []
   },
   "source": [
    "**Creating Train, Test and Split Datasets**"
   ]
  },
  {
   "cell_type": "markdown",
   "metadata": {
    "papermill": {
     "duration": 0.030454,
     "end_time": "2020-09-18T07:06:34.173957",
     "exception": false,
     "start_time": "2020-09-18T07:06:34.143503",
     "status": "completed"
    },
    "tags": []
   },
   "source": [
    "Here, I've used the [train_test_split](https://scikit-learn.org/stable/modules/generated/sklearn.model_selection.train_test_split.html) function from sklearn to create random train and test subsets of the dataset. "
   ]
  },
  {
   "cell_type": "code",
   "execution_count": 10,
   "metadata": {
    "execution": {
     "iopub.execute_input": "2020-09-18T07:06:34.260733Z",
     "iopub.status.busy": "2020-09-18T07:06:34.259819Z",
     "iopub.status.idle": "2020-09-18T07:06:34.267720Z",
     "shell.execute_reply": "2020-09-18T07:06:34.268846Z"
    },
    "papermill": {
     "duration": 0.057331,
     "end_time": "2020-09-18T07:06:34.269023",
     "exception": false,
     "start_time": "2020-09-18T07:06:34.211692",
     "status": "completed"
    },
    "tags": []
   },
   "outputs": [],
   "source": [
    "from sklearn.model_selection import train_test_split\n",
    "\n",
    "X=dataset[['text', 'body_len', 'punct%']]\n",
    "y=dataset['class']\n",
    "\n",
    "X_train, X_test, y_train, y_test = train_test_split(X,y, test_size=0.4, random_state=42)"
   ]
  },
  {
   "cell_type": "markdown",
   "metadata": {
    "papermill": {
     "duration": 0.028503,
     "end_time": "2020-09-18T07:06:34.327845",
     "exception": false,
     "start_time": "2020-09-18T07:06:34.299342",
     "status": "completed"
    },
    "tags": []
   },
   "source": [
    "**Vectorising the Corpus using TfidfVectorizer**"
   ]
  },
  {
   "cell_type": "markdown",
   "metadata": {
    "papermill": {
     "duration": 0.029271,
     "end_time": "2020-09-18T07:06:34.384651",
     "exception": false,
     "start_time": "2020-09-18T07:06:34.355380",
     "status": "completed"
    },
    "tags": []
   },
   "source": [
    "We, use the [TfidfVectoriser](https://scikit-learn.org/stable/modules/generated/sklearn.feature_extraction.text.TfidfTransformer.html#sklearn.feature_extraction.text.TfidfTransformer) from sklearn module to transform the matrix into a tf-idf representation. This is representation is commonly used in document classification and information retrieval "
   ]
  },
  {
   "cell_type": "code",
   "execution_count": 11,
   "metadata": {
    "execution": {
     "iopub.execute_input": "2020-09-18T07:06:34.454216Z",
     "iopub.status.busy": "2020-09-18T07:06:34.453471Z",
     "iopub.status.idle": "2020-09-18T07:09:07.503272Z",
     "shell.execute_reply": "2020-09-18T07:09:07.503773Z"
    },
    "papermill": {
     "duration": 153.093511,
     "end_time": "2020-09-18T07:09:07.503914",
     "exception": false,
     "start_time": "2020-09-18T07:06:34.410403",
     "status": "completed"
    },
    "tags": []
   },
   "outputs": [
    {
     "data": {
      "text/html": [
       "<div>\n",
       "<style scoped>\n",
       "    .dataframe tbody tr th:only-of-type {\n",
       "        vertical-align: middle;\n",
       "    }\n",
       "\n",
       "    .dataframe tbody tr th {\n",
       "        vertical-align: top;\n",
       "    }\n",
       "\n",
       "    .dataframe thead th {\n",
       "        text-align: right;\n",
       "    }\n",
       "</style>\n",
       "<table border=\"1\" class=\"dataframe\">\n",
       "  <thead>\n",
       "    <tr style=\"text-align: right;\">\n",
       "      <th></th>\n",
       "      <th>body_len</th>\n",
       "      <th>punct%</th>\n",
       "      <th>0</th>\n",
       "      <th>1</th>\n",
       "      <th>2</th>\n",
       "      <th>3</th>\n",
       "      <th>4</th>\n",
       "      <th>5</th>\n",
       "      <th>6</th>\n",
       "      <th>7</th>\n",
       "      <th>...</th>\n",
       "      <th>55054</th>\n",
       "      <th>55055</th>\n",
       "      <th>55056</th>\n",
       "      <th>55057</th>\n",
       "      <th>55058</th>\n",
       "      <th>55059</th>\n",
       "      <th>55060</th>\n",
       "      <th>55061</th>\n",
       "      <th>55062</th>\n",
       "      <th>55063</th>\n",
       "    </tr>\n",
       "  </thead>\n",
       "  <tbody>\n",
       "    <tr>\n",
       "      <th>0</th>\n",
       "      <td>1766</td>\n",
       "      <td>1.8</td>\n",
       "      <td>0.014404</td>\n",
       "      <td>0.0</td>\n",
       "      <td>0.0</td>\n",
       "      <td>0.0</td>\n",
       "      <td>0.0</td>\n",
       "      <td>0.0</td>\n",
       "      <td>0.0</td>\n",
       "      <td>0.0</td>\n",
       "      <td>...</td>\n",
       "      <td>0.0</td>\n",
       "      <td>0.0</td>\n",
       "      <td>0.0</td>\n",
       "      <td>0.0</td>\n",
       "      <td>0.0</td>\n",
       "      <td>0.0</td>\n",
       "      <td>0.0</td>\n",
       "      <td>0.0</td>\n",
       "      <td>0.0</td>\n",
       "      <td>0.0</td>\n",
       "    </tr>\n",
       "    <tr>\n",
       "      <th>1</th>\n",
       "      <td>2928</td>\n",
       "      <td>2.7</td>\n",
       "      <td>0.008197</td>\n",
       "      <td>0.0</td>\n",
       "      <td>0.0</td>\n",
       "      <td>0.0</td>\n",
       "      <td>0.0</td>\n",
       "      <td>0.0</td>\n",
       "      <td>0.0</td>\n",
       "      <td>0.0</td>\n",
       "      <td>...</td>\n",
       "      <td>0.0</td>\n",
       "      <td>0.0</td>\n",
       "      <td>0.0</td>\n",
       "      <td>0.0</td>\n",
       "      <td>0.0</td>\n",
       "      <td>0.0</td>\n",
       "      <td>0.0</td>\n",
       "      <td>0.0</td>\n",
       "      <td>0.0</td>\n",
       "      <td>0.0</td>\n",
       "    </tr>\n",
       "    <tr>\n",
       "      <th>2</th>\n",
       "      <td>2249</td>\n",
       "      <td>2.0</td>\n",
       "      <td>0.010530</td>\n",
       "      <td>0.0</td>\n",
       "      <td>0.0</td>\n",
       "      <td>0.0</td>\n",
       "      <td>0.0</td>\n",
       "      <td>0.0</td>\n",
       "      <td>0.0</td>\n",
       "      <td>0.0</td>\n",
       "      <td>...</td>\n",
       "      <td>0.0</td>\n",
       "      <td>0.0</td>\n",
       "      <td>0.0</td>\n",
       "      <td>0.0</td>\n",
       "      <td>0.0</td>\n",
       "      <td>0.0</td>\n",
       "      <td>0.0</td>\n",
       "      <td>0.0</td>\n",
       "      <td>0.0</td>\n",
       "      <td>0.0</td>\n",
       "    </tr>\n",
       "    <tr>\n",
       "      <th>3</th>\n",
       "      <td>3483</td>\n",
       "      <td>1.9</td>\n",
       "      <td>0.005983</td>\n",
       "      <td>0.0</td>\n",
       "      <td>0.0</td>\n",
       "      <td>0.0</td>\n",
       "      <td>0.0</td>\n",
       "      <td>0.0</td>\n",
       "      <td>0.0</td>\n",
       "      <td>0.0</td>\n",
       "      <td>...</td>\n",
       "      <td>0.0</td>\n",
       "      <td>0.0</td>\n",
       "      <td>0.0</td>\n",
       "      <td>0.0</td>\n",
       "      <td>0.0</td>\n",
       "      <td>0.0</td>\n",
       "      <td>0.0</td>\n",
       "      <td>0.0</td>\n",
       "      <td>0.0</td>\n",
       "      <td>0.0</td>\n",
       "    </tr>\n",
       "    <tr>\n",
       "      <th>4</th>\n",
       "      <td>338</td>\n",
       "      <td>2.1</td>\n",
       "      <td>0.028734</td>\n",
       "      <td>0.0</td>\n",
       "      <td>0.0</td>\n",
       "      <td>0.0</td>\n",
       "      <td>0.0</td>\n",
       "      <td>0.0</td>\n",
       "      <td>0.0</td>\n",
       "      <td>0.0</td>\n",
       "      <td>...</td>\n",
       "      <td>0.0</td>\n",
       "      <td>0.0</td>\n",
       "      <td>0.0</td>\n",
       "      <td>0.0</td>\n",
       "      <td>0.0</td>\n",
       "      <td>0.0</td>\n",
       "      <td>0.0</td>\n",
       "      <td>0.0</td>\n",
       "      <td>0.0</td>\n",
       "      <td>0.0</td>\n",
       "    </tr>\n",
       "  </tbody>\n",
       "</table>\n",
       "<p>5 rows × 55066 columns</p>\n",
       "</div>"
      ],
      "text/plain": [
       "   body_len  punct%         0    1    2    3    4    5    6    7  ...  55054  \\\n",
       "0      1766     1.8  0.014404  0.0  0.0  0.0  0.0  0.0  0.0  0.0  ...    0.0   \n",
       "1      2928     2.7  0.008197  0.0  0.0  0.0  0.0  0.0  0.0  0.0  ...    0.0   \n",
       "2      2249     2.0  0.010530  0.0  0.0  0.0  0.0  0.0  0.0  0.0  ...    0.0   \n",
       "3      3483     1.9  0.005983  0.0  0.0  0.0  0.0  0.0  0.0  0.0  ...    0.0   \n",
       "4       338     2.1  0.028734  0.0  0.0  0.0  0.0  0.0  0.0  0.0  ...    0.0   \n",
       "\n",
       "   55055  55056  55057  55058  55059  55060  55061  55062  55063  \n",
       "0    0.0    0.0    0.0    0.0    0.0    0.0    0.0    0.0    0.0  \n",
       "1    0.0    0.0    0.0    0.0    0.0    0.0    0.0    0.0    0.0  \n",
       "2    0.0    0.0    0.0    0.0    0.0    0.0    0.0    0.0    0.0  \n",
       "3    0.0    0.0    0.0    0.0    0.0    0.0    0.0    0.0    0.0  \n",
       "4    0.0    0.0    0.0    0.0    0.0    0.0    0.0    0.0    0.0  \n",
       "\n",
       "[5 rows x 55066 columns]"
      ]
     },
     "execution_count": 11,
     "metadata": {},
     "output_type": "execute_result"
    }
   ],
   "source": [
    "from sklearn.feature_extraction.text import TfidfVectorizer\n",
    "\n",
    "\n",
    "tfidf_vect = TfidfVectorizer(analyzer=clean_text)\n",
    "tfidf_vect_fit = tfidf_vect.fit(X_train['text'])\n",
    "\n",
    "tfidf_train = tfidf_vect_fit.transform(X_train['text'])\n",
    "tfidf_test = tfidf_vect_fit.transform(X_test['text'])\n",
    "\n",
    "X_train_vect = pd.concat([X_train[['body_len', 'punct%']].reset_index(drop=True), \n",
    "           pd.DataFrame(tfidf_train.toarray())], axis=1)\n",
    "X_test_vect = pd.concat([X_test[['body_len', 'punct%']].reset_index(drop=True), \n",
    "           pd.DataFrame(tfidf_test.toarray())], axis=1)\n",
    "\n",
    "X_train_vect.head()"
   ]
  },
  {
   "cell_type": "markdown",
   "metadata": {
    "papermill": {
     "duration": 0.023093,
     "end_time": "2020-09-18T07:09:07.551081",
     "exception": false,
     "start_time": "2020-09-18T07:09:07.527988",
     "status": "completed"
    },
    "tags": []
   },
   "source": [
    "**Importing Necessary Packages from sklearn**"
   ]
  },
  {
   "cell_type": "markdown",
   "metadata": {
    "papermill": {
     "duration": 0.020545,
     "end_time": "2020-09-18T07:09:07.592098",
     "exception": false,
     "start_time": "2020-09-18T07:09:07.571553",
     "status": "completed"
    },
    "tags": []
   },
   "source": [
    "We use the following functions for building our model:\n",
    "* [Random Forest Classifier](https://scikit-learn.org/stable/modules/generated/sklearn.ensemble.RandomForestClassifier.html#sklearn.ensemble.RandomForestClassifier) : A random forest is a meta estimator that fits a number of decision tree classifiers on various sub-samples of the dataset and uses averaging to improve the predictive accuracy and control over-fitting.\n",
    "* [precision_recall_fscore_support](https://scikit-learn.org/stable/modules/generated/sklearn.metrics.precision_recall_fscore_support.html#sklearn.metrics.precision_recall_fscore_support) : To compute precision, recall, F-measure and support for each class\n",
    "* [accuracy_score](https://scikit-learn.org/stable/modules/generated/sklearn.metrics.accuracy_score.html#sklearn.metrics.accuracy_score) : To compute the accuracy classification score\n",
    "* [matplotlib](https://matplotlib.org/api/index.html)\n",
    "* [seaborn](https://seaborn.pydata.org/api.html)"
   ]
  },
  {
   "cell_type": "code",
   "execution_count": 12,
   "metadata": {
    "execution": {
     "iopub.execute_input": "2020-09-18T07:09:07.637737Z",
     "iopub.status.busy": "2020-09-18T07:09:07.636891Z",
     "iopub.status.idle": "2020-09-18T07:09:07.840248Z",
     "shell.execute_reply": "2020-09-18T07:09:07.839756Z"
    },
    "papermill": {
     "duration": 0.227839,
     "end_time": "2020-09-18T07:09:07.840341",
     "exception": false,
     "start_time": "2020-09-18T07:09:07.612502",
     "status": "completed"
    },
    "tags": []
   },
   "outputs": [],
   "source": [
    "from sklearn.ensemble import RandomForestClassifier\n",
    "from sklearn.metrics import precision_recall_fscore_support as score\n",
    "from sklearn.metrics import accuracy_score as acs\n",
    "import matplotlib.pyplot as plt\n",
    "import seaborn as sns"
   ]
  },
  {
   "cell_type": "markdown",
   "metadata": {
    "papermill": {
     "duration": 0.019272,
     "end_time": "2020-09-18T07:09:07.879911",
     "exception": false,
     "start_time": "2020-09-18T07:09:07.860639",
     "status": "completed"
    },
    "tags": []
   },
   "source": [
    "# Training The Model"
   ]
  },
  {
   "cell_type": "markdown",
   "metadata": {
    "papermill": {
     "duration": 0.019498,
     "end_time": "2020-09-18T07:09:07.919390",
     "exception": false,
     "start_time": "2020-09-18T07:09:07.899892",
     "status": "completed"
    },
    "tags": []
   },
   "source": [
    "We build a RandomForestClassifier instance and then train it on our training subset and then evaluate it over our test subset. And then make a confusion matrix using the [heatmap function](https://seaborn.pydata.org/generated/seaborn.heatmap.html#seaborn.heatmap) from seaborn"
   ]
  },
  {
   "cell_type": "code",
   "execution_count": 13,
   "metadata": {
    "execution": {
     "iopub.execute_input": "2020-09-18T07:09:07.967747Z",
     "iopub.status.busy": "2020-09-18T07:09:07.966924Z",
     "iopub.status.idle": "2020-09-18T07:09:35.650518Z",
     "shell.execute_reply": "2020-09-18T07:09:35.650925Z"
    },
    "papermill": {
     "duration": 27.712295,
     "end_time": "2020-09-18T07:09:35.651067",
     "exception": false,
     "start_time": "2020-09-18T07:09:07.938772",
     "status": "completed"
    },
    "tags": []
   },
   "outputs": [
    {
     "name": "stdout",
     "output_type": "stream",
     "text": [
      "Precision: 1.0 / Recall: 0.997 / F1-Score: 0.998 / Accuracy: 0.998\n"
     ]
    },
    {
     "data": {
      "image/png": "[encoded data removed]",
      "text/plain": [
       "<Figure size 432x288 with 2 Axes>"
      ]
     },
     "metadata": {
      "needs_background": "light"
     },
     "output_type": "display_data"
    }
   ],
   "source": [
    "rf = RandomForestClassifier(n_estimators=150, max_depth=None, n_jobs=-1)\n",
    "\n",
    "rf_model = rf.fit(X_train_vect, y_train)\n",
    "\n",
    "y_pred = rf_model.predict(X_test_vect)\n",
    "\n",
    "precision, recall, fscore, train_support = score(y_test, y_pred, pos_label=1, average='binary')\n",
    "print('Precision: {} / Recall: {} / F1-Score: {} / Accuracy: {}'.format(\n",
    "    round(precision, 3), round(recall, 3), round(fscore,3), round(acs(y_test,y_pred), 3)))\n",
    "\n",
    "# Making the Confusion Matrix\n",
    "from sklearn.metrics import confusion_matrix\n",
    "cm = confusion_matrix(y_test, y_pred)\n",
    "class_label = [0, 1]\n",
    "df_cm = pd.DataFrame(cm, index=class_label,columns=class_label)\n",
    "sns.heatmap(df_cm, annot=True, fmt='d')\n",
    "plt.title(\"Confusion Matrix\")\n",
    "plt.xlabel(\"Predicted Label\")\n",
    "plt.ylabel(\"True Label\")\n",
    "plt.show()\n"
   ]
  }
 ],
 "metadata": {
  "kernelspec": {
   "display_name": "Python 3",
   "language": "python",
   "name": "python3"
  },
  "language_info": {
   "codemirror_mode": {
    "name": "ipython",
    "version": 3
   },
   "file_extension": ".py",
   "mimetype": "text/x-python",
   "name": "python",
   "nbconvert_exporter": "python",
   "pygments_lexer": "ipython3",
   "version": "3.7.6"
  },
  "papermill": {
   "duration": 191.909038,
   "end_time": "2020-09-18T07:09:35.787121",
   "environment_variables": {},
   "exception": null,
   "input_path": "__notebook__.ipynb",
   "output_path": "__notebook__.ipynb",
   "parameters": {},
   "start_time": "2020-09-18T07:06:23.878083",
   "version": "2.1.0"
  }
 },
 "nbformat": 4,
 "nbformat_minor": 4
}
