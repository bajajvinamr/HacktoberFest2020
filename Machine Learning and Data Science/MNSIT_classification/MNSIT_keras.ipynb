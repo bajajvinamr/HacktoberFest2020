{
 "cells": [
  {
   "cell_type": "code",
   "execution_count": 12,
   "metadata": {},
   "outputs": [],
   "source": [
    "#importing libraries\n",
    "import tensorflow as tf\n",
    "import matplotlib.pyplot as plt\n",
    "from tensorflow.keras.models import Sequential\n",
    "from tensorflow.keras.layers import Dense,Dropout, Flatten"
   ]
  },
  {
   "cell_type": "code",
   "execution_count": 15,
   "metadata": {},
   "outputs": [
    {
     "name": "stdout",
     "output_type": "stream",
     "text": [
      "x_train shape: (60000, 28, 28, 1)\n",
      "Number of images in x_train 60000\n",
      "Number of images in x_test 10000\n"
     ]
    }
   ],
   "source": [
    "#loas mnsit dataset\n",
    "from tensorflow.keras.datasets import mnist\n",
    "(x_train, y_train), (x_test, y_test) = mnist.load_data()\n",
    "x_train = x_train.reshape(x_train.shape[0], 28, 28, 1)\n",
    "x_test = x_test.reshape(x_test.shape[0], 28, 28, 1)\n",
    "input_shape = (28, 28, 1)\n",
    "# Making sure that the values are float so that we can get decimal points after division\n",
    "x_train = x_train.astype('float32')\n",
    "x_test = x_test.astype('float32')\n",
    "# Normalizing the RGB codes by dividing it to the max RGB value.\n",
    "x_train /= 255\n",
    "x_test /= 255\n",
    "print('x_train shape:', x_train.shape)\n",
    "print('Number of images in x_train', x_train.shape[0])\n",
    "print('Number of images in x_test', x_test.shape[0])"
   ]
  },
  {
   "cell_type": "code",
   "execution_count": 16,
   "metadata": {},
   "outputs": [
    {
     "data": {
      "text/plain": [
       "2"
      ]
     },
     "execution_count": 16,
     "metadata": {},
     "output_type": "execute_result"
    },
    {
     "data": {
      "image/png": "[encoded data removed]",
      "text/plain": [
       "<Figure size 432x288 with 1 Axes>"
      ]
     },
     "metadata": {
      "needs_background": "light"
     },
     "output_type": "display_data"
    }
   ],
   "source": [
    "index = 8743\n",
    "plt.imshow(X_train[index])\n",
    "Y_train[index]"
   ]
  },
  {
   "cell_type": "code",
   "execution_count": 38,
   "metadata": {},
   "outputs": [],
   "source": [
    "model = Sequential()\n",
    "\n",
    "\n",
    "model.add(Flatten()) # Flattening the 2D arrays for fully connected layers\n",
    "model.add(Dense(784, activation=tf.nn.relu)) #28*28 = 784\n",
    "model.add(Dropout(0.1))\n",
    "# model.add(Dense(128, activation=tf.nn.relu))\n",
    "model.add(Dense(10,activation=tf.nn.softmax))"
   ]
  },
  {
   "cell_type": "code",
   "execution_count": 39,
   "metadata": {},
   "outputs": [
    {
     "name": "stdout",
     "output_type": "stream",
     "text": [
      "Epoch 1/15\n",
      "60000/60000 [==============================] - 10s 165us/sample - loss: 0.2165 - acc: 0.9366\n",
      "Epoch 2/15\n",
      "60000/60000 [==============================] - 10s 164us/sample - loss: 0.0876 - acc: 0.9740\n",
      "Epoch 3/15\n",
      "60000/60000 [==============================] - 10s 167us/sample - loss: 0.0573 - acc: 0.9827\n",
      "Epoch 4/15\n",
      "60000/60000 [==============================] - 10s 163us/sample - loss: 0.0420 - acc: 0.9870\n",
      "Epoch 5/15\n",
      "60000/60000 [==============================] - 10s 160us/sample - loss: 0.0325 - acc: 0.9901\n",
      "Epoch 6/15\n",
      "60000/60000 [==============================] - 10s 160us/sample - loss: 0.0251 - acc: 0.9920\n",
      "Epoch 7/15\n",
      "60000/60000 [==============================] - 10s 161us/sample - loss: 0.0203 - acc: 0.9936 \n",
      "Epoch 8/15\n",
      "60000/60000 [==============================] - 10s 161us/sample - loss: 0.0173 - acc: 0.9942\n",
      "Epoch 9/15\n",
      "60000/60000 [==============================] - 10s 161us/sample - loss: 0.0148 - acc: 0.9951\n",
      "Epoch 10/15\n",
      "60000/60000 [==============================] - 10s 160us/sample - loss: 0.0128 - acc: 0.9959\n",
      "Epoch 11/15\n",
      "60000/60000 [==============================] - 10s 160us/sample - loss: 0.0122 - acc: 0.9963\n",
      "Epoch 12/15\n",
      "60000/60000 [==============================] - 10s 162us/sample - loss: 0.0122 - acc: 0.9959\n",
      "Epoch 13/15\n",
      "60000/60000 [==============================] - 10s 163us/sample - loss: 0.0081 - acc: 0.9971\n",
      "Epoch 14/15\n",
      "60000/60000 [==============================] - 10s 165us/sample - loss: 0.0095 - acc: 0.9967\n",
      "Epoch 15/15\n",
      "60000/60000 [==============================] - 10s 167us/sample - loss: 0.0095 - acc: 0.9969\n"
     ]
    },
    {
     "data": {
      "text/plain": [
       "<tensorflow.python.keras.callbacks.History at 0x2842502b7b8>"
      ]
     },
     "execution_count": 39,
     "metadata": {},
     "output_type": "execute_result"
    }
   ],
   "source": [
    "model.compile(optimizer='adam', \n",
    "              loss='sparse_categorical_crossentropy', \n",
    "              metrics=['accuracy'])\n",
    "model.fit(x=x_train,y=y_train,batch_size = 64, epochs=15)\n",
    "#on my setup it took 150s to train "
   ]
  },
  {
   "cell_type": "code",
   "execution_count": 44,
   "metadata": {},
   "outputs": [
    {
     "name": "stdout",
     "output_type": "stream",
     "text": [
      "10000/10000 [==============================] - 1s 96us/sample - loss: 0.0879 - acc: 0.9825\n"
     ]
    },
    {
     "data": {
      "text/plain": [
       "[0.08794149101948122, 0.9825]"
      ]
     },
     "execution_count": 44,
     "metadata": {},
     "output_type": "execute_result"
    }
   ],
   "source": [
    "#evaluate on test data\n",
    "model.evaluate(x_test, y_test)"
   ]
  },
  {
   "cell_type": "markdown",
   "metadata": {},
   "source": [
    "training accuray 99.6%\n",
    "test accuracy 98.2%\n"
   ]
  },
  {
   "cell_type": "code",
   "execution_count": 46,
   "metadata": {},
   "outputs": [
    {
     "name": "stdout",
     "output_type": "stream",
     "text": [
      "7\n"
     ]
    },
    {
     "data": {
      "image/png": "[encoded data removed]",
      "text/plain": [
       "<Figure size 432x288 with 1 Axes>"
      ]
     },
     "metadata": {
      "needs_background": "light"
     },
     "output_type": "display_data"
    }
   ],
   "source": [
    "#test on any image from index 0 to 9999\n",
    "\n",
    "image_index = 34\n",
    "plt.imshow(x_test[image_index].reshape(28, 28),cmap='Greys')\n",
    "pred = model.predict(x_test[image_index].reshape(1, 28, 28, 1))\n",
    "print(pred.argmax())"
   ]
  },
  {
   "cell_type": "code",
   "execution_count": null,
   "metadata": {},
   "outputs": [],
   "source": []
  }
 ],
 "metadata": {
  "kernelspec": {
   "display_name": "Python 3",
   "language": "python",
   "name": "python3"
  },
  "language_info": {
   "codemirror_mode": {
    "name": "ipython",
    "version": 3
   },
   "file_extension": ".py",
   "mimetype": "text/x-python",
   "name": "python",
   "nbconvert_exporter": "python",
   "pygments_lexer": "ipython3",
   "version": "3.6.10"
  }
 },
 "nbformat": 4,
 "nbformat_minor": 4
}
