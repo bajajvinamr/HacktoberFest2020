{
 "cells": [
  {
   "cell_type": "code",
   "execution_count": null,
   "metadata": {},
   "outputs": [],
   "source": [
    "import pyttsx3\n",
    "import PyPDF2"
   ]
  },
  {
   "cell_type": "code",
   "execution_count": null,
   "metadata": {},
   "outputs": [],
   "source": [
    "def speak(file):\n",
    "    book=open(file,'rb')\n",
    "    pdfReader=PyPDF2.PdfFileReader(book)\n",
    "    pdfReader.getIsEncrypted()\n",
    "    pages=pdfReader.numPages\n",
    "    speaker=pyttsx3.init()\n",
    "    for i in range(pages):\n",
    "        page=pdfReader.getPage(i)\n",
    "        text=page.extractText()\n",
    "        speaker.say(text)\n",
    "        speaker.runAndWait()"
   ]
  },
  {
   "cell_type": "code",
   "execution_count": null,
   "metadata": {},
   "outputs": [],
   "source": [
    "from flask import Flask\n",
    "\n",
    "UPLOAD_FOLDER = 'static/uploads/'\n",
    "DOWNLOAD_FOLDER = 'static/uploads/'\n",
    "\n",
    "app = Flask(__name__)\n",
    "app.secret_key = \"secret key\"\n",
    "app.config['UPLOAD_FOLDER'] = UPLOAD_FOLDER\n",
    "app.config['DOWNLOAD_FOLDER'] = DOWNLOAD_FOLDER\n",
    "app.config['MAX_CONTENT_LENGTH'] = 16 * 1024 * 1024"
   ]
  },
  {
   "cell_type": "code",
   "execution_count": null,
   "metadata": {},
   "outputs": [],
   "source": [
    "import os\n",
    "import urllib.request\n",
    "from flask import Flask, request, redirect, url_for, render_template, send_from_directory\n",
    "from werkzeug.utils import secure_filename\n",
    "from PyPDF2 import PdfFileReader, PdfFileWriter\n",
    "\n",
    "ALLOWED_EXTENSIONS = {'pdf', 'txt'}\n",
    "\n",
    "app = Flask(__name__, static_url_path=\"/static\")\n",
    "app.config['UPLOAD_FOLDER'] = UPLOAD_FOLDER\n",
    "app.config['DOWNLOAD_FOLDER'] = DOWNLOAD_FOLDER\n",
    "# limit upload size upto 8mb\n",
    "app.config['MAX_CONTENT_LENGTH'] = 8 * 1024 * 1024\n",
    "\n",
    "\n",
    "def allowed_file(filename):\n",
    "    return '.' in filename and filename.rsplit('.', 1)[1].lower() in ALLOWED_EXTENSIONS\n",
    "\n",
    "\n",
    "@app.route('/', methods=['GET', 'POST'])\n",
    "def index():\n",
    "    if request.method == 'POST':\n",
    "        if 'file' not in request.files:\n",
    "            print('No file attached in request')\n",
    "            return redirect(request.url)\n",
    "        file = request.files['file']\n",
    "        if file.filename == '':\n",
    "            print('No file selected')\n",
    "            return redirect(request.url)\n",
    "        if file and allowed_file(file.filename):\n",
    "            filename = secure_filename(file.filename)\n",
    "            file.save(os.path.join(app.config['UPLOAD_FOLDER'], filename))\n",
    "            process_file(os.path.join(app.config['UPLOAD_FOLDER'], filename), filename)\n",
    "            return redirect(url_for('uploaded_file', filename=filename))\n",
    "    return render_template('audioLectures.html')\n",
    "\n",
    "\n",
    "def process_file(path, filename):\n",
    "    speak(path)\n",
    "    # with open(path, 'a') as f:\n",
    "    #    f.write(\"\\nAdded processed content\")\n",
    "\n",
    "\n",
    "@app.route('/uploads/<filename>')\n",
    "def uploaded_file(filename):\n",
    "    return send_from_directory(app.config['DOWNLOAD_FOLDER'], filename, as_attachment=True) \n",
    "\n",
    "\n",
    "if __name__ == '__main__':\n",
    "    app.run()"
   ]
  },
  {
   "cell_type": "code",
   "execution_count": null,
   "metadata": {},
   "outputs": [],
   "source": []
  }
 ],
 "metadata": {
  "kernelspec": {
   "display_name": "Python 3",
   "language": "python",
   "name": "python3"
  },
  "language_info": {
   "codemirror_mode": {
    "name": "ipython",
    "version": 3
   },
   "file_extension": ".py",
   "mimetype": "text/x-python",
   "name": "python",
   "nbconvert_exporter": "python",
   "pygments_lexer": "ipython3",
   "version": "3.8.3"
  }
 },
 "nbformat": 4,
 "nbformat_minor": 4
}
