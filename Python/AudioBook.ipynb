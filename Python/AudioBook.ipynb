{
 "cells": [
  {
   "cell_type": "code",
   "execution_count": null,
   "metadata": {},
   "outputs": [],
   "source": [
    "import pyttsx3\n",
    "import PyPDF2"
   ]
  },
  {
   "cell_type": "code",
   "execution_count": null,
   "metadata": {},
   "outputs": [],
   "source": [
    "def speak(file):\n",
    "    book=open(file,'rb')\n",
    "    pdfReader=PyPDF2.PdfFileReader(book)\n",
    "    pdfReader.getIsEncrypted()\n",
    "    pages=pdfReader.numPages\n",
    "    speaker=pyttsx3.init()\n",
    "    for i in range(pages):\n",
    "        page=pdfReader.getPage(i)\n",
    "        text=page.extractText()\n",
    "        speaker.say(text)\n",
    "        speaker.runAndWait()"
   ]
  },
  
  
