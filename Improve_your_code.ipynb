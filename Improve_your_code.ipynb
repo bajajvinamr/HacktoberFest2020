{
  "nbformat": 4,
  "nbformat_minor": 0,
  "metadata": {
    "colab": {
      "name": "Improve your code.ipynb",
      "provenance": []
    },
    "kernelspec": {
      "name": "python3",
      "display_name": "Python 3"
    }
  },
  "cells": [
    {
      "cell_type": "markdown",
      "metadata": {
        "id": "_Wo4gVxAs_Nr"
      },
      "source": [
        "## How to make your code run fast "
      ]
    },
    {
      "cell_type": "markdown",
      "metadata": {
        "id": "xqfZ4Txa1JjO"
      },
      "source": [
        "\n",
        "\n",
        "*   Use builtin libraries :\n",
        "      * This will save you time and avoids making mistakes \n",
        "      * Also helps in reducing the size of code\n",
        "*   Avoid Calculations inside for loop:\n",
        "    * Calcuations take much time to compile when compared to others \n",
        "    * if we calcuate inside for loop ,then for every iteration it takes more time than usual\n",
        "* Define functions :\n",
        "  * if we are using a piece od code many times in the code , it's better to define it in a function \n",
        "  * It avoid space consumption and reduces number of lines of code\n",
        "  * we can ust give input parameters and get output instead of doing whole process everytime \n",
        "* Structuring the solution before itself:\n",
        "  * it helps you to be clear about the code\n",
        "  * we can code accordingly and avoid using unwanted functions and variables in code\n",
        "* Use join to concatenate :\n",
        "  * using + operations creates new string for every + \n",
        "  * you can use oin instead of it \n",
        "\n",
        "\n",
        "```\n",
        "use :\n",
        "' '.join(str)\n",
        "instead of :\n",
        "variable + ' '+ variable\n",
        "```\n",
        "\n",
        "\n",
        "* Using Local variables :\n",
        "  * use local variables more\n",
        "  * If some variables are used in particular function or piece of code then local variables are restricted to that part of code only unlike global variables\n",
        "* Assigning Multiple variables at a time :\n",
        "  * Ths will help you to avoid more number of lines of code \n",
        "\n",
        "\n",
        "```\n",
        " use :\n",
        " a , b , c = 2, 5, 6\n",
        " instead of :\n",
        " a = 2 \n",
        " b = 4\n",
        " c = 4\n",
        "```\n",
        "\n",
        "\n",
        "\n"
      ]
    }
  ]
}